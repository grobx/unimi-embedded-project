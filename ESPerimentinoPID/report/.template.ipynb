{
    "cells": [
        {
            "cell_type": "code",
            "execution_count": null,
            "id": "d14abc91",
            "metadata": {
                "hide_input": true
            },
            "outputs": [],
            "source": [
                "timestamp = 'XXX'"
            ]
        },
        {
            "cell_type": "code",
            "execution_count": null,
            "id": "c1e3f375",
            "metadata": {
                "hide_input": true,
                "scrolled": false
            },
            "outputs": [],
            "source": [
                "from lib.ex import Experiment\n",
                "x = Experiment(timestamp)\n",
                "x.display()"
            ]
        }
    ],
    "metadata": {
        "interpreter": {
            "hash": "5a1ebb26385b4caf0ae6dcb827ab515ad7d7db2a28f9764a03e490e3ae8351fb"
        },
        "kernelspec": {
            "display_name": "Python 3.9.7 (esperimentino)",
            "language": "python",
            "name": "esperimentino"
        },
        "language_info": {
            "codemirror_mode": {
                "name": "ipython",
                "version": 3
            },
            "file_extension": ".py",
            "mimetype": "text/x-python",
            "name": "python",
            "nbconvert_exporter": "python",
            "pygments_lexer": "ipython3",
            "version": "3.9.7"
        }
    },
    "nbformat": 4,
    "nbformat_minor": 5
}